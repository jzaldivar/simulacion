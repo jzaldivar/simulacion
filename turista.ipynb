{
 "cells": [
  {
   "cell_type": "markdown",
   "metadata": {},
   "source": [
    "# Introducción a la simulación\n",
    "\n",
    "Para ***simular*** procesos de ingeniería hacemos uso de ***modelos***. Es importante enfatizar que un modelo es una ***representación*** de la realidad, no es ***la*** realidad.\n",
    "\n",
    "Hay diferentes formas de clasificar los modelos, por ejemplo, según cómo se establece la relación de correspondencia:\n",
    "\n",
    "* Icónicos (mediante propiedades morfológicas)\n",
    "* Análogos (convenciones que codifican propiedades de la realidad)\n",
    "* Simbólicos (codificación matemática)\n",
    "\n",
    "O, por su utilidad o uso:\n",
    "\n",
    "* Descriptivos\n",
    "* Predictivos\n",
    "* Prescriptivos"
   ]
  },
  {
   "cell_type": "markdown",
   "metadata": {},
   "source": [
    "# Modelos aleatorios\n",
    "\n",
    "Cuando en los procesos físicos a modelar interviene el azar, para la elaboración de modelos se utilizan generadores de números aleatorios.\n",
    "\n",
    "## Ejemplo: Tirar un dado."
   ]
  },
  {
   "cell_type": "code",
   "execution_count": null,
   "metadata": {},
   "outputs": [],
   "source": [
    "import numpy as np\n",
    "import matplotlib.pyplot as plt"
   ]
  },
  {
   "cell_type": "code",
   "execution_count": null,
   "metadata": {},
   "outputs": [],
   "source": [
    "# Inicializar el generador de números aleatorios\n",
    "np.random.seed()\n",
    "# Generar el número aleatorio\n",
    "dado = np.random.randint(1, 7)\n",
    "print(dado)"
   ]
  },
  {
   "cell_type": "code",
   "execution_count": null,
   "metadata": {
    "tags": []
   },
   "outputs": [],
   "source": [
    "# Tirar el dado varias veces para verificar la distribución\n",
    "dados = []\n",
    "frecuencias = [0, 0, 0, 0, 0, 0]\n",
    "for _ in range(24):\n",
    "    dado = np.random.randint(1, 7)\n",
    "    dados.append(dado)\n",
    "    frecuencias[dado-1] += 1\n",
    "print(dados)\n",
    "print(frecuencias)"
   ]
  },
  {
   "cell_type": "code",
   "execution_count": null,
   "metadata": {},
   "outputs": [],
   "source": [
    "# Generar un histograma de los resultados\n",
    "plt.hist(dados, align=\"left\", bins=6, range=(1,7))\n",
    "plt.show()"
   ]
  },
  {
   "cell_type": "markdown",
   "metadata": {},
   "source": [
    "¿Cómo se comportan las frecuencias conforme se incrementa el número de tiradas?"
   ]
  },
  {
   "cell_type": "code",
   "execution_count": null,
   "metadata": {
    "tags": [
     "outputPrepend"
    ]
   },
   "outputs": [],
   "source": [
    "dados = []\n",
    "tiradas = 10\n",
    "#x = np.arange(1, tiradas+1)\n",
    "frec_rel = []\n",
    "frecuencias = np.array([0, 0, 0, 0, 0, 0])\n",
    "\n",
    "for i in range(1, tiradas+1):\n",
    "    dado = np.random.randint(1, 7)\n",
    "    dados.append(dado)\n",
    "    frecuencias[dado-1] += 1\n",
    "    frec_rel.append(frecuencias / i)\n",
    "\n",
    "print(dados)\n",
    "print(frecuencias)\n",
    "print(frec_rel)"
   ]
  },
  {
   "cell_type": "code",
   "execution_count": null,
   "metadata": {},
   "outputs": [],
   "source": [
    "plt.plot(frec_rel, label=[1,2,3,4,5,6])\n",
    "plt.legend()\n",
    "plt.show()"
   ]
  },
  {
   "cell_type": "markdown",
   "metadata": {},
   "source": [
    "## Ejemplo: El turista perdido (¿borracho?)\n",
    "\n",
    "Tenemos un turista perdido en una ciudad. El turista se encuentra inicialmente en el centro de la ciudad. Selecciona aleatoriamente una dirección (norte, sur, este u oeste) y avanza una cuadra en esa dirección. Al llegar a la siguiente esquina, repite el proceso.\n",
    "\n",
    "\n",
    "\n",
    "¿Qué tan lejos llegará del centro después de recorrer 20 cuadras?"
   ]
  },
  {
   "cell_type": "code",
   "execution_count": null,
   "metadata": {},
   "outputs": [],
   "source": [
    "def mover_turista(x0, y0):\n",
    "    # Dirección aleatoria\n",
    "    delta_x = 0\n",
    "    delta_y = 0\n",
    "    # Obtener un número aleatorio en el rango [0, 1)\n",
    "    direccion = np.random.random()\n",
    "    # Dividir resultado en cuatro porciones\n",
    "    if direccion < 0.25:\n",
    "        delta_x = 1\n",
    "    elif direccion < 0.5:\n",
    "        delta_y = 1\n",
    "    elif direccion < 0.75:\n",
    "        delta_x = -1\n",
    "    else:\n",
    "        delta_y = -1\n",
    "    return (x0 + delta_x, y0 + delta_y)\n",
    "\n",
    "\n",
    "# Posición inicial\n",
    "x = 0\n",
    "y = 0\n",
    "cuadras = 20\n",
    "for _ in range(cuadras):\n",
    "    x, y = mover_turista(x, y)\n",
    "# Distancia final (cuántas cuadras se alejó del centro)\n",
    "distancia = abs(x) + abs(y)\n",
    "print(distancia)"
   ]
  },
  {
   "cell_type": "markdown",
   "metadata": {},
   "source": [
    "¿Cuál es la distribución de probabilidad?"
   ]
  },
  {
   "cell_type": "code",
   "execution_count": null,
   "metadata": {},
   "outputs": [],
   "source": [
    "def movimiento(num_movs, num_sims=1):\n",
    "    \"\"\"\n",
    "    Genera simulaciones del movimiento de un \"turista perdido\",\n",
    "    inicia en el origen (0,0) y se mueve una unidad en una dirección\n",
    "    al azar (arriba, abajo, izquierda o derecha), al llegar a la siguiente\n",
    "    esquina, vuelve a elegir una dirección al azar y avanza otra unidad,\n",
    "    y así sucesivamente.\n",
    "    \n",
    "    num_movs: el número de movimientos.\n",
    "    num_sims: el número de simulaciones.\n",
    "\n",
    "    La función regresa una lista de tuplas que contiene las coordenadas finales\n",
    "    para cada simulación.\n",
    "    \"\"\"\n",
    "    # Inicializar lista de posiciones finales\n",
    "    posiciones_finales = []\n",
    "    # Generar los números aleatorios que se van a necesitar\n",
    "    direccion = np.random.random(size=(num_movs, num_sims))\n",
    "    # Inicia ciclo de simulaciones\n",
    "    for i in range(num_sims):\n",
    "        # Posición inicial (0, 0)\n",
    "        x = y = 0\n",
    "        # Inicia ciclo de movimientos\n",
    "        for j in range(num_movs):\n",
    "            if direccion[j, i] < 0.25:\n",
    "                x += 1\n",
    "            elif direccion[j, i] < 0.5:\n",
    "                y += 1\n",
    "            elif direccion[j, i] < 0.75:\n",
    "                x -= 1\n",
    "            else:\n",
    "                y -= 1\n",
    "        # Registrar posición final\n",
    "        posiciones_finales.append((x, y))\n",
    "    return posiciones_finales\n"
   ]
  },
  {
   "cell_type": "code",
   "execution_count": null,
   "metadata": {},
   "outputs": [],
   "source": [
    "# Simular un movimiento de 20 cuadras 1000 veces\n",
    "destinos = movimiento(20, 1000)\n",
    "# Calcular las distancias\n",
    "distancias = [abs(xy[0]) + abs(xy[1]) for xy in destinos]\n",
    "dist_max = max(distancias)\n",
    "# Obtener histograma\n",
    "plt.hist(distancias, align=\"left\", bins=range(dist_max+2))\n",
    "plt.show()"
   ]
  },
  {
   "cell_type": "markdown",
   "metadata": {},
   "source": [
    "¿Cuál es la probabilidad de que el turista se aleje del centro al menos cinco cuadras después de diez movimientos?\n",
    "\n",
    "Podríamos correr la simulación muchas veces y calcular la proporción de veces en que queda a cinco o más cuadras del centro."
   ]
  },
  {
   "cell_type": "code",
   "execution_count": null,
   "metadata": {},
   "outputs": [],
   "source": [
    "def probabilidad(num_movs, cuadras, num_sims=1000):\n",
    "    \"\"\"\n",
    "    Calcula la probabilidad de que el turista se encuentre al menos a un número\n",
    "    dado de cuadras del centro después de un número dado de movimientos.\n",
    "    \"\"\"\n",
    "    # Calcular posiciones finales\n",
    "    pos_finales = movimiento(num_movs, num_sims)\n",
    "    # Calcular las distancias\n",
    "    distancias = [abs(xy[0]) + abs(xy[1]) for xy in pos_finales]\n",
    "    # Verificar qué distancias son iguales o mayores a las cuadras indicadas\n",
    "    llego = [dist for dist in distancias if dist >= cuadras]\n",
    "    # La probabilidad es la proporción de resultados favorables\n",
    "    prob = len(llego) / len(distancias)\n",
    "    return prob\n"
   ]
  },
  {
   "cell_type": "code",
   "execution_count": null,
   "metadata": {},
   "outputs": [],
   "source": [
    "probabilidad(10, 5)"
   ]
  },
  {
   "cell_type": "markdown",
   "metadata": {},
   "source": [
    "Llenar la siguiente tabla de probabilidades\n",
    "\n",
    "| Número de movimientos | Distancia mínima del centro | Probabilidad calculada |\n",
    "|:---------------------:|:---------------------------:|:----------------------:|\n",
    "| 5                     |  1 cuadra                   |                        |\n",
    "| 10                    |  5 cuadras                  |                        |\n",
    "| 20                    |  5 cuadras                  |                        |\n",
    "| 50                    | 20 cuadras                  |                        |"
   ]
  },
  {
   "cell_type": "markdown",
   "metadata": {},
   "source": [
    "¿Cómo se comporta la distancia conforme progresa el experimento?"
   ]
  },
  {
   "cell_type": "code",
   "execution_count": null,
   "metadata": {},
   "outputs": [],
   "source": [
    "def ruta(num_movs):\n",
    "    \"\"\"\n",
    "    Calcula la ruta del turista.\n",
    "    Regresa una lista de coordenadas (x, y) que describe la ruta que ha seguido el turista.\n",
    "    \"\"\"\n",
    "    # Posición inicial\n",
    "    x = y = 0\n",
    "    ruta_xy = [(x, y)]\n",
    "    # Recorrer ruta\n",
    "    for _ in range(num_movs):\n",
    "        x, y = mover_turista(x, y)\n",
    "        ruta_xy.append((x, y))\n",
    "    # Regresar ruta\n",
    "    return ruta_xy\n"
   ]
  },
  {
   "cell_type": "code",
   "execution_count": null,
   "metadata": {},
   "outputs": [],
   "source": [
    "def distancia(par_xy):\n",
    "    x, y = par_xy\n",
    "    return abs(x) + abs(y)\n",
    "\n",
    "paseo = ruta(50)\n",
    "distancias = [distancia(pos) for pos in paseo]\n",
    "plt.plot(distancias)\n",
    "plt.show()"
   ]
  }
 ],
 "metadata": {
  "kernelspec": {
   "display_name": ".venv",
   "language": "python",
   "name": "python3"
  },
  "language_info": {
   "codemirror_mode": {
    "name": "ipython",
    "version": 3
   },
   "file_extension": ".py",
   "mimetype": "text/x-python",
   "name": "python",
   "nbconvert_exporter": "python",
   "pygments_lexer": "ipython3",
   "version": "3.13.2"
  },
  "metadata": {
   "interpreter": {
    "hash": "1e5a504a27c91785cc20fa5894256130d97c1764e1afe7fb121f7c2e7578e171"
   }
  },
  "orig_nbformat": 2
 },
 "nbformat": 4,
 "nbformat_minor": 2
}
